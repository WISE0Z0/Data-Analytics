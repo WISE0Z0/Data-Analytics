{
 "cells": [
  {
   "cell_type": "code",
   "execution_count": 41,
   "id": "98391fc0-8806-49c8-9139-72c85e0afe14",
   "metadata": {},
   "outputs": [],
   "source": [
    "import pandas as pd\n",
    "import numpy as np\n",
    "import matplotlib.pyplot as plt\n",
    "import seaborn as sns"
   ]
  },
  {
   "cell_type": "code",
   "execution_count": 42,
   "id": "911868dd-1cd8-4685-9b57-f19e480ca715",
   "metadata": {},
   "outputs": [
    {
     "data": {
      "text/html": [
       "<div>\n",
       "<style scoped>\n",
       "    .dataframe tbody tr th:only-of-type {\n",
       "        vertical-align: middle;\n",
       "    }\n",
       "\n",
       "    .dataframe tbody tr th {\n",
       "        vertical-align: top;\n",
       "    }\n",
       "\n",
       "    .dataframe thead th {\n",
       "        text-align: right;\n",
       "    }\n",
       "</style>\n",
       "<table border=\"1\" class=\"dataframe\">\n",
       "  <thead>\n",
       "    <tr style=\"text-align: right;\">\n",
       "      <th></th>\n",
       "      <th>Ticker</th>\n",
       "      <th>Date</th>\n",
       "      <th>Open</th>\n",
       "      <th>High</th>\n",
       "      <th>Low</th>\n",
       "      <th>Close</th>\n",
       "      <th>Adj Close</th>\n",
       "      <th>Volume</th>\n",
       "    </tr>\n",
       "  </thead>\n",
       "  <tbody>\n",
       "    <tr>\n",
       "      <th>0</th>\n",
       "      <td>AAPL</td>\n",
       "      <td>2023-02-07</td>\n",
       "      <td>150.639999</td>\n",
       "      <td>155.229996</td>\n",
       "      <td>150.639999</td>\n",
       "      <td>154.649994</td>\n",
       "      <td>154.414230</td>\n",
       "      <td>83322600</td>\n",
       "    </tr>\n",
       "    <tr>\n",
       "      <th>1</th>\n",
       "      <td>AAPL</td>\n",
       "      <td>2023-02-08</td>\n",
       "      <td>153.880005</td>\n",
       "      <td>154.580002</td>\n",
       "      <td>151.169998</td>\n",
       "      <td>151.919998</td>\n",
       "      <td>151.688400</td>\n",
       "      <td>64120100</td>\n",
       "    </tr>\n",
       "    <tr>\n",
       "      <th>2</th>\n",
       "      <td>AAPL</td>\n",
       "      <td>2023-02-09</td>\n",
       "      <td>153.779999</td>\n",
       "      <td>154.330002</td>\n",
       "      <td>150.419998</td>\n",
       "      <td>150.869995</td>\n",
       "      <td>150.639999</td>\n",
       "      <td>56007100</td>\n",
       "    </tr>\n",
       "    <tr>\n",
       "      <th>3</th>\n",
       "      <td>AAPL</td>\n",
       "      <td>2023-02-10</td>\n",
       "      <td>149.460007</td>\n",
       "      <td>151.339996</td>\n",
       "      <td>149.220001</td>\n",
       "      <td>151.009995</td>\n",
       "      <td>151.009995</td>\n",
       "      <td>57450700</td>\n",
       "    </tr>\n",
       "    <tr>\n",
       "      <th>4</th>\n",
       "      <td>AAPL</td>\n",
       "      <td>2023-02-13</td>\n",
       "      <td>150.949997</td>\n",
       "      <td>154.259995</td>\n",
       "      <td>150.919998</td>\n",
       "      <td>153.850006</td>\n",
       "      <td>153.850006</td>\n",
       "      <td>62199000</td>\n",
       "    </tr>\n",
       "  </tbody>\n",
       "</table>\n",
       "</div>"
      ],
      "text/plain": [
       "  Ticker        Date        Open        High         Low       Close  \\\n",
       "0   AAPL  2023-02-07  150.639999  155.229996  150.639999  154.649994   \n",
       "1   AAPL  2023-02-08  153.880005  154.580002  151.169998  151.919998   \n",
       "2   AAPL  2023-02-09  153.779999  154.330002  150.419998  150.869995   \n",
       "3   AAPL  2023-02-10  149.460007  151.339996  149.220001  151.009995   \n",
       "4   AAPL  2023-02-13  150.949997  154.259995  150.919998  153.850006   \n",
       "\n",
       "    Adj Close    Volume  \n",
       "0  154.414230  83322600  \n",
       "1  151.688400  64120100  \n",
       "2  150.639999  56007100  \n",
       "3  151.009995  57450700  \n",
       "4  153.850006  62199000  "
      ]
     },
     "execution_count": 42,
     "metadata": {},
     "output_type": "execute_result"
    }
   ],
   "source": [
    "data = pd.read_csv('stocks.csv')\n",
    "data.head()"
   ]
  },
  {
   "cell_type": "code",
   "execution_count": 43,
   "id": "4facca3c-c782-4143-bbc5-49f680442c7c",
   "metadata": {},
   "outputs": [
    {
     "data": {
      "text/plain": [
       "(248, 8)"
      ]
     },
     "execution_count": 43,
     "metadata": {},
     "output_type": "execute_result"
    }
   ],
   "source": [
    "data.shape"
   ]
  },
  {
   "cell_type": "code",
   "execution_count": 44,
   "id": "f3c4b8a0-4214-4209-b62f-e0018425bb65",
   "metadata": {},
   "outputs": [
    {
     "data": {
      "text/html": [
       "<div>\n",
       "<style scoped>\n",
       "    .dataframe tbody tr th:only-of-type {\n",
       "        vertical-align: middle;\n",
       "    }\n",
       "\n",
       "    .dataframe tbody tr th {\n",
       "        vertical-align: top;\n",
       "    }\n",
       "\n",
       "    .dataframe thead th {\n",
       "        text-align: right;\n",
       "    }\n",
       "</style>\n",
       "<table border=\"1\" class=\"dataframe\">\n",
       "  <thead>\n",
       "    <tr style=\"text-align: right;\">\n",
       "      <th></th>\n",
       "      <th>Ticker</th>\n",
       "      <th>Date</th>\n",
       "      <th>Open</th>\n",
       "      <th>High</th>\n",
       "      <th>Low</th>\n",
       "      <th>Close</th>\n",
       "      <th>Adj Close</th>\n",
       "      <th>Volume</th>\n",
       "    </tr>\n",
       "  </thead>\n",
       "  <tbody>\n",
       "    <tr>\n",
       "      <th>0</th>\n",
       "      <td>AAPL</td>\n",
       "      <td>2023-02-07</td>\n",
       "      <td>150.639999</td>\n",
       "      <td>155.229996</td>\n",
       "      <td>150.639999</td>\n",
       "      <td>154.649994</td>\n",
       "      <td>154.414230</td>\n",
       "      <td>83322600</td>\n",
       "    </tr>\n",
       "    <tr>\n",
       "      <th>1</th>\n",
       "      <td>AAPL</td>\n",
       "      <td>2023-02-08</td>\n",
       "      <td>153.880005</td>\n",
       "      <td>154.580002</td>\n",
       "      <td>151.169998</td>\n",
       "      <td>151.919998</td>\n",
       "      <td>151.688400</td>\n",
       "      <td>64120100</td>\n",
       "    </tr>\n",
       "    <tr>\n",
       "      <th>2</th>\n",
       "      <td>AAPL</td>\n",
       "      <td>2023-02-09</td>\n",
       "      <td>153.779999</td>\n",
       "      <td>154.330002</td>\n",
       "      <td>150.419998</td>\n",
       "      <td>150.869995</td>\n",
       "      <td>150.639999</td>\n",
       "      <td>56007100</td>\n",
       "    </tr>\n",
       "    <tr>\n",
       "      <th>3</th>\n",
       "      <td>AAPL</td>\n",
       "      <td>2023-02-10</td>\n",
       "      <td>149.460007</td>\n",
       "      <td>151.339996</td>\n",
       "      <td>149.220001</td>\n",
       "      <td>151.009995</td>\n",
       "      <td>151.009995</td>\n",
       "      <td>57450700</td>\n",
       "    </tr>\n",
       "    <tr>\n",
       "      <th>4</th>\n",
       "      <td>AAPL</td>\n",
       "      <td>2023-02-13</td>\n",
       "      <td>150.949997</td>\n",
       "      <td>154.259995</td>\n",
       "      <td>150.919998</td>\n",
       "      <td>153.850006</td>\n",
       "      <td>153.850006</td>\n",
       "      <td>62199000</td>\n",
       "    </tr>\n",
       "    <tr>\n",
       "      <th>5</th>\n",
       "      <td>AAPL</td>\n",
       "      <td>2023-02-14</td>\n",
       "      <td>152.119995</td>\n",
       "      <td>153.770004</td>\n",
       "      <td>150.860001</td>\n",
       "      <td>153.199997</td>\n",
       "      <td>153.199997</td>\n",
       "      <td>61707600</td>\n",
       "    </tr>\n",
       "    <tr>\n",
       "      <th>6</th>\n",
       "      <td>AAPL</td>\n",
       "      <td>2023-02-15</td>\n",
       "      <td>153.110001</td>\n",
       "      <td>155.500000</td>\n",
       "      <td>152.880005</td>\n",
       "      <td>155.330002</td>\n",
       "      <td>155.330002</td>\n",
       "      <td>65573800</td>\n",
       "    </tr>\n",
       "    <tr>\n",
       "      <th>7</th>\n",
       "      <td>AAPL</td>\n",
       "      <td>2023-02-16</td>\n",
       "      <td>153.509995</td>\n",
       "      <td>156.330002</td>\n",
       "      <td>153.350006</td>\n",
       "      <td>153.710007</td>\n",
       "      <td>153.710007</td>\n",
       "      <td>68167900</td>\n",
       "    </tr>\n",
       "    <tr>\n",
       "      <th>8</th>\n",
       "      <td>AAPL</td>\n",
       "      <td>2023-02-17</td>\n",
       "      <td>152.350006</td>\n",
       "      <td>153.000000</td>\n",
       "      <td>150.850006</td>\n",
       "      <td>152.550003</td>\n",
       "      <td>152.550003</td>\n",
       "      <td>59144100</td>\n",
       "    </tr>\n",
       "    <tr>\n",
       "      <th>9</th>\n",
       "      <td>AAPL</td>\n",
       "      <td>2023-02-21</td>\n",
       "      <td>150.199997</td>\n",
       "      <td>151.300003</td>\n",
       "      <td>148.410004</td>\n",
       "      <td>148.479996</td>\n",
       "      <td>148.479996</td>\n",
       "      <td>58867200</td>\n",
       "    </tr>\n",
       "  </tbody>\n",
       "</table>\n",
       "</div>"
      ],
      "text/plain": [
       "  Ticker        Date        Open        High         Low       Close  \\\n",
       "0   AAPL  2023-02-07  150.639999  155.229996  150.639999  154.649994   \n",
       "1   AAPL  2023-02-08  153.880005  154.580002  151.169998  151.919998   \n",
       "2   AAPL  2023-02-09  153.779999  154.330002  150.419998  150.869995   \n",
       "3   AAPL  2023-02-10  149.460007  151.339996  149.220001  151.009995   \n",
       "4   AAPL  2023-02-13  150.949997  154.259995  150.919998  153.850006   \n",
       "5   AAPL  2023-02-14  152.119995  153.770004  150.860001  153.199997   \n",
       "6   AAPL  2023-02-15  153.110001  155.500000  152.880005  155.330002   \n",
       "7   AAPL  2023-02-16  153.509995  156.330002  153.350006  153.710007   \n",
       "8   AAPL  2023-02-17  152.350006  153.000000  150.850006  152.550003   \n",
       "9   AAPL  2023-02-21  150.199997  151.300003  148.410004  148.479996   \n",
       "\n",
       "    Adj Close    Volume  \n",
       "0  154.414230  83322600  \n",
       "1  151.688400  64120100  \n",
       "2  150.639999  56007100  \n",
       "3  151.009995  57450700  \n",
       "4  153.850006  62199000  \n",
       "5  153.199997  61707600  \n",
       "6  155.330002  65573800  \n",
       "7  153.710007  68167900  \n",
       "8  152.550003  59144100  \n",
       "9  148.479996  58867200  "
      ]
     },
     "execution_count": 44,
     "metadata": {},
     "output_type": "execute_result"
    }
   ],
   "source": [
    "data.head(10)"
   ]
  },
  {
   "cell_type": "code",
   "execution_count": 45,
   "id": "595d9521-5161-482c-b432-be70bc3f1661",
   "metadata": {},
   "outputs": [
    {
     "data": {
      "text/plain": [
       "array(['AAPL', 'MSFT', 'NFLX', 'GOOG'], dtype=object)"
      ]
     },
     "execution_count": 45,
     "metadata": {},
     "output_type": "execute_result"
    }
   ],
   "source": [
    "data['Ticker'].unique()"
   ]
  },
  {
   "cell_type": "code",
   "execution_count": 46,
   "id": "ff5252cc-dac2-4262-908d-75e45a516f10",
   "metadata": {},
   "outputs": [
    {
     "data": {
      "text/html": [
       "<div>\n",
       "<style scoped>\n",
       "    .dataframe tbody tr th:only-of-type {\n",
       "        vertical-align: middle;\n",
       "    }\n",
       "\n",
       "    .dataframe tbody tr th {\n",
       "        vertical-align: top;\n",
       "    }\n",
       "\n",
       "    .dataframe thead th {\n",
       "        text-align: right;\n",
       "    }\n",
       "</style>\n",
       "<table border=\"1\" class=\"dataframe\">\n",
       "  <thead>\n",
       "    <tr style=\"text-align: right;\">\n",
       "      <th></th>\n",
       "      <th>Open</th>\n",
       "      <th>High</th>\n",
       "      <th>Low</th>\n",
       "      <th>Close</th>\n",
       "      <th>Adj Close</th>\n",
       "      <th>Volume</th>\n",
       "    </tr>\n",
       "  </thead>\n",
       "  <tbody>\n",
       "    <tr>\n",
       "      <th>count</th>\n",
       "      <td>248.000000</td>\n",
       "      <td>248.000000</td>\n",
       "      <td>248.000000</td>\n",
       "      <td>248.000000</td>\n",
       "      <td>248.000000</td>\n",
       "      <td>2.480000e+02</td>\n",
       "    </tr>\n",
       "    <tr>\n",
       "      <th>mean</th>\n",
       "      <td>215.252093</td>\n",
       "      <td>217.919662</td>\n",
       "      <td>212.697452</td>\n",
       "      <td>215.381674</td>\n",
       "      <td>215.362697</td>\n",
       "      <td>3.208210e+07</td>\n",
       "    </tr>\n",
       "    <tr>\n",
       "      <th>std</th>\n",
       "      <td>91.691315</td>\n",
       "      <td>92.863023</td>\n",
       "      <td>90.147881</td>\n",
       "      <td>91.461989</td>\n",
       "      <td>91.454750</td>\n",
       "      <td>2.233590e+07</td>\n",
       "    </tr>\n",
       "    <tr>\n",
       "      <th>min</th>\n",
       "      <td>89.540001</td>\n",
       "      <td>90.129997</td>\n",
       "      <td>88.860001</td>\n",
       "      <td>89.349998</td>\n",
       "      <td>89.349998</td>\n",
       "      <td>2.657900e+06</td>\n",
       "    </tr>\n",
       "    <tr>\n",
       "      <th>25%</th>\n",
       "      <td>135.235004</td>\n",
       "      <td>137.440004</td>\n",
       "      <td>134.822495</td>\n",
       "      <td>136.347498</td>\n",
       "      <td>136.347498</td>\n",
       "      <td>1.714180e+07</td>\n",
       "    </tr>\n",
       "    <tr>\n",
       "      <th>50%</th>\n",
       "      <td>208.764999</td>\n",
       "      <td>212.614998</td>\n",
       "      <td>208.184998</td>\n",
       "      <td>209.920006</td>\n",
       "      <td>209.920006</td>\n",
       "      <td>2.734000e+07</td>\n",
       "    </tr>\n",
       "    <tr>\n",
       "      <th>75%</th>\n",
       "      <td>304.177505</td>\n",
       "      <td>307.565002</td>\n",
       "      <td>295.437500</td>\n",
       "      <td>303.942505</td>\n",
       "      <td>303.942505</td>\n",
       "      <td>4.771772e+07</td>\n",
       "    </tr>\n",
       "    <tr>\n",
       "      <th>max</th>\n",
       "      <td>372.410004</td>\n",
       "      <td>373.829987</td>\n",
       "      <td>361.739990</td>\n",
       "      <td>366.829987</td>\n",
       "      <td>366.829987</td>\n",
       "      <td>1.133164e+08</td>\n",
       "    </tr>\n",
       "  </tbody>\n",
       "</table>\n",
       "</div>"
      ],
      "text/plain": [
       "             Open        High         Low       Close   Adj Close  \\\n",
       "count  248.000000  248.000000  248.000000  248.000000  248.000000   \n",
       "mean   215.252093  217.919662  212.697452  215.381674  215.362697   \n",
       "std     91.691315   92.863023   90.147881   91.461989   91.454750   \n",
       "min     89.540001   90.129997   88.860001   89.349998   89.349998   \n",
       "25%    135.235004  137.440004  134.822495  136.347498  136.347498   \n",
       "50%    208.764999  212.614998  208.184998  209.920006  209.920006   \n",
       "75%    304.177505  307.565002  295.437500  303.942505  303.942505   \n",
       "max    372.410004  373.829987  361.739990  366.829987  366.829987   \n",
       "\n",
       "             Volume  \n",
       "count  2.480000e+02  \n",
       "mean   3.208210e+07  \n",
       "std    2.233590e+07  \n",
       "min    2.657900e+06  \n",
       "25%    1.714180e+07  \n",
       "50%    2.734000e+07  \n",
       "75%    4.771772e+07  \n",
       "max    1.133164e+08  "
      ]
     },
     "execution_count": 46,
     "metadata": {},
     "output_type": "execute_result"
    }
   ],
   "source": [
    "data.describe()"
   ]
  },
  {
   "cell_type": "code",
   "execution_count": 47,
   "id": "189faeff-114e-4d39-9ff9-75954335ffa4",
   "metadata": {},
   "outputs": [
    {
     "name": "stdout",
     "output_type": "stream",
     "text": [
      "<class 'pandas.core.frame.DataFrame'>\n",
      "RangeIndex: 248 entries, 0 to 247\n",
      "Data columns (total 8 columns):\n",
      " #   Column     Non-Null Count  Dtype  \n",
      "---  ------     --------------  -----  \n",
      " 0   Ticker     248 non-null    object \n",
      " 1   Date       248 non-null    object \n",
      " 2   Open       248 non-null    float64\n",
      " 3   High       248 non-null    float64\n",
      " 4   Low        248 non-null    float64\n",
      " 5   Close      248 non-null    float64\n",
      " 6   Adj Close  248 non-null    float64\n",
      " 7   Volume     248 non-null    int64  \n",
      "dtypes: float64(5), int64(1), object(2)\n",
      "memory usage: 15.6+ KB\n"
     ]
    }
   ],
   "source": [
    "data.info()"
   ]
  },
  {
   "cell_type": "code",
   "execution_count": 48,
   "id": "77cbc605-f2a9-41f4-af63-682bb2e7a034",
   "metadata": {},
   "outputs": [
    {
     "data": {
      "text/plain": [
       "Ticker        object\n",
       "Date          object\n",
       "Open         float64\n",
       "High         float64\n",
       "Low          float64\n",
       "Close        float64\n",
       "Adj Close    float64\n",
       "Volume         int64\n",
       "dtype: object"
      ]
     },
     "execution_count": 48,
     "metadata": {},
     "output_type": "execute_result"
    }
   ],
   "source": [
    "data.dtypes"
   ]
  },
  {
   "cell_type": "code",
   "execution_count": 49,
   "id": "e310a1f0-4dc6-4ae3-bd54-7257244f6226",
   "metadata": {},
   "outputs": [
    {
     "data": {
      "text/plain": [
       "<bound method NDFrame.describe of     Ticker        Date        Open        High         Low       Close  \\\n",
       "0     AAPL  2023-02-07  150.639999  155.229996  150.639999  154.649994   \n",
       "1     AAPL  2023-02-08  153.880005  154.580002  151.169998  151.919998   \n",
       "2     AAPL  2023-02-09  153.779999  154.330002  150.419998  150.869995   \n",
       "3     AAPL  2023-02-10  149.460007  151.339996  149.220001  151.009995   \n",
       "4     AAPL  2023-02-13  150.949997  154.259995  150.919998  153.850006   \n",
       "..     ...         ...         ...         ...         ...         ...   \n",
       "243   GOOG  2023-05-01  107.720001  108.680000  107.500000  107.709999   \n",
       "244   GOOG  2023-05-02  107.660004  107.730003  104.500000  105.980003   \n",
       "245   GOOG  2023-05-03  106.220001  108.129997  105.620003  106.120003   \n",
       "246   GOOG  2023-05-04  106.160004  106.300003  104.699997  105.209999   \n",
       "247   GOOG  2023-05-05  105.320000  106.440002  104.738998  106.214996   \n",
       "\n",
       "      Adj Close    Volume  \n",
       "0    154.414230  83322600  \n",
       "1    151.688400  64120100  \n",
       "2    150.639999  56007100  \n",
       "3    151.009995  57450700  \n",
       "4    153.850006  62199000  \n",
       "..          ...       ...  \n",
       "243  107.709999  20926300  \n",
       "244  105.980003  20343100  \n",
       "245  106.120003  17116300  \n",
       "246  105.209999  19780600  \n",
       "247  106.214996  20705300  \n",
       "\n",
       "[248 rows x 8 columns]>"
      ]
     },
     "execution_count": 49,
     "metadata": {},
     "output_type": "execute_result"
    }
   ],
   "source": [
    "data.describe"
   ]
  },
  {
   "cell_type": "code",
   "execution_count": 50,
   "id": "088e34b5-75b9-410b-bcd2-e01227ad9b18",
   "metadata": {},
   "outputs": [
    {
     "data": {
      "text/plain": [
       "Ticker       False\n",
       "Date         False\n",
       "Open         False\n",
       "High         False\n",
       "Low          False\n",
       "Close        False\n",
       "Adj Close    False\n",
       "Volume       False\n",
       "dtype: bool"
      ]
     },
     "execution_count": 50,
     "metadata": {},
     "output_type": "execute_result"
    }
   ],
   "source": [
    "data.isnull().any()"
   ]
  },
  {
   "cell_type": "code",
   "execution_count": 51,
   "id": "218ed52d-2d6e-4321-bb16-c47b149309d4",
   "metadata": {},
   "outputs": [
    {
     "data": {
      "text/plain": [
       "Ticker       0\n",
       "Date         0\n",
       "Open         0\n",
       "High         0\n",
       "Low          0\n",
       "Close        0\n",
       "Adj Close    0\n",
       "Volume       0\n",
       "dtype: int64"
      ]
     },
     "execution_count": 51,
     "metadata": {},
     "output_type": "execute_result"
    }
   ],
   "source": [
    "data.isnull().sum()"
   ]
  },
  {
   "cell_type": "code",
   "execution_count": 52,
   "id": "4b19a1c8-e380-464b-9c51-1428a315e645",
   "metadata": {},
   "outputs": [
    {
     "data": {
      "text/html": [
       "<div>\n",
       "<style scoped>\n",
       "    .dataframe tbody tr th:only-of-type {\n",
       "        vertical-align: middle;\n",
       "    }\n",
       "\n",
       "    .dataframe tbody tr th {\n",
       "        vertical-align: top;\n",
       "    }\n",
       "\n",
       "    .dataframe thead th {\n",
       "        text-align: right;\n",
       "    }\n",
       "</style>\n",
       "<table border=\"1\" class=\"dataframe\">\n",
       "  <thead>\n",
       "    <tr style=\"text-align: right;\">\n",
       "      <th></th>\n",
       "      <th>Open</th>\n",
       "      <th>High</th>\n",
       "      <th>Low</th>\n",
       "      <th>Close</th>\n",
       "      <th>Adj Close</th>\n",
       "      <th>Volume</th>\n",
       "    </tr>\n",
       "  </thead>\n",
       "  <tbody>\n",
       "    <tr>\n",
       "      <th>Open</th>\n",
       "      <td>1.000000</td>\n",
       "      <td>0.999626</td>\n",
       "      <td>0.999650</td>\n",
       "      <td>0.999176</td>\n",
       "      <td>0.999173</td>\n",
       "      <td>-0.547741</td>\n",
       "    </tr>\n",
       "    <tr>\n",
       "      <th>High</th>\n",
       "      <td>0.999626</td>\n",
       "      <td>1.000000</td>\n",
       "      <td>0.999654</td>\n",
       "      <td>0.999644</td>\n",
       "      <td>0.999640</td>\n",
       "      <td>-0.546175</td>\n",
       "    </tr>\n",
       "    <tr>\n",
       "      <th>Low</th>\n",
       "      <td>0.999650</td>\n",
       "      <td>0.999654</td>\n",
       "      <td>1.000000</td>\n",
       "      <td>0.999663</td>\n",
       "      <td>0.999661</td>\n",
       "      <td>-0.544590</td>\n",
       "    </tr>\n",
       "    <tr>\n",
       "      <th>Close</th>\n",
       "      <td>0.999176</td>\n",
       "      <td>0.999644</td>\n",
       "      <td>0.999663</td>\n",
       "      <td>1.000000</td>\n",
       "      <td>0.999999</td>\n",
       "      <td>-0.544194</td>\n",
       "    </tr>\n",
       "    <tr>\n",
       "      <th>Adj Close</th>\n",
       "      <td>0.999173</td>\n",
       "      <td>0.999640</td>\n",
       "      <td>0.999661</td>\n",
       "      <td>0.999999</td>\n",
       "      <td>1.000000</td>\n",
       "      <td>-0.544370</td>\n",
       "    </tr>\n",
       "    <tr>\n",
       "      <th>Volume</th>\n",
       "      <td>-0.547741</td>\n",
       "      <td>-0.546175</td>\n",
       "      <td>-0.544590</td>\n",
       "      <td>-0.544194</td>\n",
       "      <td>-0.544370</td>\n",
       "      <td>1.000000</td>\n",
       "    </tr>\n",
       "  </tbody>\n",
       "</table>\n",
       "</div>"
      ],
      "text/plain": [
       "               Open      High       Low     Close  Adj Close    Volume\n",
       "Open       1.000000  0.999626  0.999650  0.999176   0.999173 -0.547741\n",
       "High       0.999626  1.000000  0.999654  0.999644   0.999640 -0.546175\n",
       "Low        0.999650  0.999654  1.000000  0.999663   0.999661 -0.544590\n",
       "Close      0.999176  0.999644  0.999663  1.000000   0.999999 -0.544194\n",
       "Adj Close  0.999173  0.999640  0.999661  0.999999   1.000000 -0.544370\n",
       "Volume    -0.547741 -0.546175 -0.544590 -0.544194  -0.544370  1.000000"
      ]
     },
     "execution_count": 52,
     "metadata": {},
     "output_type": "execute_result"
    }
   ],
   "source": [
    "data.corr(numeric_only=True)"
   ]
  },
  {
   "cell_type": "code",
   "execution_count": 53,
   "id": "fc6fbd14-5a33-4e6f-aaaa-4afe7fda1c43",
   "metadata": {},
   "outputs": [
    {
     "data": {
      "image/png": "[encoded data removed]",
      "text/plain": [
       "<Figure size 1500x1000 with 2 Axes>"
      ]
     },
     "metadata": {},
     "output_type": "display_data"
    }
   ],
   "source": [
    "correlation_matrix = data.corr(numeric_only=True)\n",
    "plt.figure(figsize=(15, 10))\n",
    "sns.heatmap(correlation_matrix, annot=True, cmap='coolwarm',linewidths=0.5, fmt='.2f')\n",
    "plt.title(\"Correlation Matrix Heatmap\")\n",
    "plt.show()"
   ]
  },
  {
   "cell_type": "code",
   "execution_count": 54,
   "id": "e1d58c93-f30a-4700-971a-6f5c16fc2c47",
   "metadata": {},
   "outputs": [
    {
     "data": {
      "image/png": "[encoded data removed]",
      "text/plain": [
       "<Figure size 640x480 with 1 Axes>"
      ]
     },
     "metadata": {},
     "output_type": "display_data"
    }
   ],
   "source": [
    "plt.hist(data['Close'], bins=20)\n",
    "plt.xlabel('Closing Price')\n",
    "plt.ylabel('Frequency')\n",
    "plt.title('Closing Price Distribution')\n",
    "plt.show()"
   ]
  },
  {
   "cell_type": "code",
   "execution_count": 55,
   "id": "975075fe-2586-49c6-ab7a-dd2a77a50d7e",
   "metadata": {},
   "outputs": [
    {
     "data": {
      "text/plain": [
       "Text(0.5, 1.0, 'Total Volume by Ticker')"
      ]
     },
     "execution_count": 55,
     "metadata": {},
     "output_type": "execute_result"
    },
    {
     "data": {
      "image/png": "[encoded data removed]",
      "text/plain": [
       "<Figure size 640x480 with 1 Axes>"
      ]
     },
     "metadata": {},
     "output_type": "display_data"
    }
   ],
   "source": [
    "ticker_volume = data.groupby('Ticker')['Volume'].sum()\n",
    "ticker_volume.plot(kind='bar')\n",
    "plt.xlabel('Ticker')\n",
    "plt.ylabel('Total Volume')\n",
    "plt.title('Total Volume by Ticker')"
   ]
  },
  {
   "cell_type": "code",
   "execution_count": 56,
   "id": "b73456f3-1ac9-4b32-91e1-15cfcecb792a",
   "metadata": {},
   "outputs": [
    {
     "data": {
      "image/png": "[encoded data removed]",
      "text/plain": [
       "<Figure size 640x480 with 1 Axes>"
      ]
     },
     "metadata": {},
     "output_type": "display_data"
    }
   ],
   "source": [
    "plt.scatter(data['Volume'], data['Close'])\n",
    "plt.xlabel('Volume')\n",
    "plt.ylabel('Closing Price')\n",
    "plt.title('Volume vs. Closing Price')\n",
    "plt.show()"
   ]
  },
  {
   "cell_type": "code",
   "execution_count": 57,
   "id": "88558fb2-e5a8-42aa-8316-019bba3ca467",
   "metadata": {},
   "outputs": [
    {
     "data": {
      "image/png": "[encoded data removed]",
      "text/plain": [
       "<Figure size 640x480 with 1 Axes>"
      ]
     },
     "metadata": {},
     "output_type": "display_data"
    }
   ],
   "source": [
    "plt.boxplot(data['Close'])\n",
    "plt.ylabel('Closing Price')\n",
    "plt.title('Closing Price Distribution')\n",
    "plt.show()"
   ]
  },
  {
   "cell_type": "code",
   "execution_count": 40,
   "id": "c6cdc935-9254-4b2f-a6d9-24fb72a3e763",
   "metadata": {},
   "outputs": [
    {
     "data": {
      "text/html": [
       "<div>\n",
       "<style scoped>\n",
       "    .dataframe tbody tr th:only-of-type {\n",
       "        vertical-align: middle;\n",
       "    }\n",
       "\n",
       "    .dataframe tbody tr th {\n",
       "        vertical-align: top;\n",
       "    }\n",
       "\n",
       "    .dataframe thead th {\n",
       "        text-align: right;\n",
       "    }\n",
       "</style>\n",
       "<table border=\"1\" class=\"dataframe\">\n",
       "  <thead>\n",
       "    <tr style=\"text-align: right;\">\n",
       "      <th></th>\n",
       "      <th>Ticker</th>\n",
       "      <th>Date</th>\n",
       "      <th>Open</th>\n",
       "      <th>High</th>\n",
       "      <th>Low</th>\n",
       "      <th>Close</th>\n",
       "      <th>Adj Close</th>\n",
       "      <th>Volume</th>\n",
       "    </tr>\n",
       "  </thead>\n",
       "  <tbody>\n",
       "    <tr>\n",
       "      <th>0</th>\n",
       "      <td>AAPL</td>\n",
       "      <td>2023-02-07</td>\n",
       "      <td>150.639999</td>\n",
       "      <td>155.229996</td>\n",
       "      <td>150.639999</td>\n",
       "      <td>154.649994</td>\n",
       "      <td>154.414230</td>\n",
       "      <td>83322600</td>\n",
       "    </tr>\n",
       "    <tr>\n",
       "      <th>1</th>\n",
       "      <td>AAPL</td>\n",
       "      <td>2023-02-08</td>\n",
       "      <td>153.880005</td>\n",
       "      <td>154.580002</td>\n",
       "      <td>151.169998</td>\n",
       "      <td>151.919998</td>\n",
       "      <td>151.688400</td>\n",
       "      <td>64120100</td>\n",
       "    </tr>\n",
       "    <tr>\n",
       "      <th>2</th>\n",
       "      <td>AAPL</td>\n",
       "      <td>2023-02-09</td>\n",
       "      <td>153.779999</td>\n",
       "      <td>154.330002</td>\n",
       "      <td>150.419998</td>\n",
       "      <td>150.869995</td>\n",
       "      <td>150.639999</td>\n",
       "      <td>56007100</td>\n",
       "    </tr>\n",
       "    <tr>\n",
       "      <th>3</th>\n",
       "      <td>AAPL</td>\n",
       "      <td>2023-02-10</td>\n",
       "      <td>149.460007</td>\n",
       "      <td>151.339996</td>\n",
       "      <td>149.220001</td>\n",
       "      <td>151.009995</td>\n",
       "      <td>151.009995</td>\n",
       "      <td>57450700</td>\n",
       "    </tr>\n",
       "    <tr>\n",
       "      <th>4</th>\n",
       "      <td>AAPL</td>\n",
       "      <td>2023-02-13</td>\n",
       "      <td>150.949997</td>\n",
       "      <td>154.259995</td>\n",
       "      <td>150.919998</td>\n",
       "      <td>153.850006</td>\n",
       "      <td>153.850006</td>\n",
       "      <td>62199000</td>\n",
       "    </tr>\n",
       "  </tbody>\n",
       "</table>\n",
       "</div>"
      ],
      "text/plain": [
       "  Ticker        Date        Open        High         Low       Close  \\\n",
       "0   AAPL  2023-02-07  150.639999  155.229996  150.639999  154.649994   \n",
       "1   AAPL  2023-02-08  153.880005  154.580002  151.169998  151.919998   \n",
       "2   AAPL  2023-02-09  153.779999  154.330002  150.419998  150.869995   \n",
       "3   AAPL  2023-02-10  149.460007  151.339996  149.220001  151.009995   \n",
       "4   AAPL  2023-02-13  150.949997  154.259995  150.919998  153.850006   \n",
       "\n",
       "    Adj Close    Volume  \n",
       "0  154.414230  83322600  \n",
       "1  151.688400  64120100  \n",
       "2  150.639999  56007100  \n",
       "3  151.009995  57450700  \n",
       "4  153.850006  62199000  "
      ]
     },
     "execution_count": 40,
     "metadata": {},
     "output_type": "execute_result"
    }
   ],
   "source": [
    "data.head(5)"
   ]
  }
 ],
 "metadata": {
  "kernelspec": {
   "display_name": "Python 3 (ipykernel)",
   "language": "python",
   "name": "python3"
  },
  "language_info": {
   "codemirror_mode": {
    "name": "ipython",
    "version": 3
   },
   "file_extension": ".py",
   "mimetype": "text/x-python",
   "name": "python",
   "nbconvert_exporter": "python",
   "pygments_lexer": "ipython3",
   "version": "3.11.7"
  }
 },
 "nbformat": 4,
 "nbformat_minor": 5
}
